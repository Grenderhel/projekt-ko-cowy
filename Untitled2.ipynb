{
  "nbformat": 4,
  "nbformat_minor": 0,
  "metadata": {
    "colab": {
      "provenance": [],
      "authorship_tag": "ABX9TyO9mip2ZExGcsVbcsknAknu",
      "include_colab_link": true
    },
    "kernelspec": {
      "name": "python3",
      "display_name": "Python 3"
    },
    "language_info": {
      "name": "python"
    }
  },
  "cells": [
    {
      "cell_type": "markdown",
      "metadata": {
        "id": "view-in-github",
        "colab_type": "text"
      },
      "source": [
        "<a href=\"https://colab.research.google.com/github/Grenderhel/projekt-ko-cowy/blob/main/Untitled2.ipynb\" target=\"_parent\"><img src=\"https://colab.research.google.com/assets/colab-badge.svg\" alt=\"Open In Colab\"/></a>"
      ]
    },
    {
      "cell_type": "code",
      "source": [
        "!pip install imageAI"
      ],
      "metadata": {
        "colab": {
          "base_uri": "https://localhost:8080/"
        },
        "id": "2rFNuvQhpeEe",
        "outputId": "80c195c8-75a2-494e-b849-e1f4ace7c11b"
      },
      "execution_count": null,
      "outputs": [
        {
          "output_type": "stream",
          "name": "stdout",
          "text": [
            "Collecting imageAI\n",
            "  Downloading imageai-3.0.3-py3-none-any.whl.metadata (340 bytes)\n",
            "Downloading imageai-3.0.3-py3-none-any.whl (69 kB)\n",
            "\u001b[?25l   \u001b[90m━━━━━━━━━━━━━━━━━━━━━━━━━━━━━━━━━━━━━━━━\u001b[0m \u001b[32m0.0/69.8 kB\u001b[0m \u001b[31m?\u001b[0m eta \u001b[36m-:--:--\u001b[0m\r\u001b[2K   \u001b[90m━━━━━━━━━━━━━━━━━━━━━━━━━━━━━━━━━━━━━━━━\u001b[0m \u001b[32m69.8/69.8 kB\u001b[0m \u001b[31m1.9 MB/s\u001b[0m eta \u001b[36m0:00:00\u001b[0m\n",
            "\u001b[?25hInstalling collected packages: imageAI\n",
            "Successfully installed imageAI-3.0.3\n"
          ]
        }
      ]
    },
    {
      "cell_type": "code",
      "execution_count": null,
      "metadata": {
        "colab": {
          "base_uri": "https://localhost:8080/"
        },
        "id": "PSBqDgCfoyGI",
        "outputId": "7afbaace-10c0-4c48-c6bd-e24bb2f7d2f9"
      },
      "outputs": [
        {
          "output_type": "stream",
          "name": "stdout",
          "text": [
            "[{'name': 'apple', 'percentage_probability': 99.98, 'box_points': [446, 24, 688, 313]}, {'name': 'apple', 'percentage_probability': 99.98, 'box_points': [190, 40, 419, 318]}, {'name': 'apple', 'percentage_probability': 99.72, 'box_points': [269, 64, 627, 454]}]\n"
          ]
        }
      ],
      "source": [
        "from imageai.Detection import ObjectDetection\n",
        "\n",
        "#pomiędzy \"\" podaj ścieżkę do zdjęcia, które chcesz przeanalizowac\n",
        "dimage = \"/jablka.jpeg\"\n",
        "\n",
        "def detect_consumables(input_image, output_image, model_path):\n",
        "  detector = ObjectDetection()\n",
        "  model_path = \"yolov3.pt\"\n",
        "  detector.setModelTypeAsYOLOv3()\n",
        "  detector.setModelPath(\"/content/yolov3.pt\")\n",
        "  detector.loadModel()\n",
        "\n",
        "  detections = detector.detectObjectsFromImage(\n",
        "  input_image=input_image,\n",
        "  output_image_path=output_image,\n",
        "  minimum_percentage_probability=33)\n",
        "\n",
        "  return detections\n",
        "\n",
        "def analyze_objects(detections):\n",
        "  consumables = []\n",
        "  if len(detections) > 0:\n",
        "    for detection in detections:\n",
        "      if detection['name'] in [\"bottle\", \"wine glass\", \"cup\", \"banana\", \"apple\", \"sandwich\", \"orange\", \"broccoli\", \"carrot\", \"hot dog\", \"pizza\", \"donot\", \"cake\", \"bowl\"]:\n",
        "        consumables.append(detection)\n",
        "  return consumables\n",
        "\n",
        "print(analyze_objects(detect_consumables(dimage, 'output.jpg', '/content/yolov3.pt')))"
      ]
    }
  ]
}